{
  "nbformat": 4,
  "nbformat_minor": 0,
  "metadata": {
    "colab": {
      "name": "dnn-2-layer-final.ipynb",
      "provenance": [],
      "collapsed_sections": []
    },
    "kernelspec": {
      "name": "python3",
      "display_name": "Python 3"
    },
    "language_info": {
      "name": "python"
    }
  },
  "cells": [
    {
      "cell_type": "code",
      "metadata": {
        "id": "HnbptVIi8_NM"
      },
      "source": [
        "import numpy as np\n",
        "import pandas as pd\n",
        "import matplotlib.pyplot as plt\n",
        "import tensorflow as tf\n",
        "from tensorflow import keras \n",
        "from keras.layers import Activation,Flatten,Conv2D,MaxPooling2D,Dropout,Dense\n",
        "from keras.preprocessing.image import ImageDataGenerator, img_to_array , load_img\n",
        "from keras import backend as K\n",
        "from keras.preprocessing import image\n",
        "from keras.models import Sequential,load_model\n",
        "from keras.callbacks import EarlyStopping"
      ],
      "execution_count": 1,
      "outputs": []
    },
    {
      "cell_type": "code",
      "metadata": {
        "colab": {
          "base_uri": "https://localhost:8080/"
        },
        "id": "64wtGURW9pIA",
        "outputId": "5bea6178-8867-4dd4-a484-37b786d39e00"
      },
      "source": [
        "from google.colab import drive  \n",
        "drive.mount('/content/drive')"
      ],
      "execution_count": 68,
      "outputs": [
        {
          "output_type": "stream",
          "text": [
            "Drive already mounted at /content/drive; to attempt to forcibly remount, call drive.mount(\"/content/drive\", force_remount=True).\n"
          ],
          "name": "stdout"
        }
      ]
    },
    {
      "cell_type": "code",
      "metadata": {
        "colab": {
          "base_uri": "https://localhost:8080/"
        },
        "id": "ElKW5JN59u4I",
        "outputId": "94b5d2da-f940-4715-cad0-321a0944ed34"
      },
      "source": [
        "cd /content/drive/My Drive/dnn"
      ],
      "execution_count": 210,
      "outputs": [
        {
          "output_type": "stream",
          "text": [
            "/content/drive/My Drive/dnn\n"
          ],
          "name": "stdout"
        }
      ]
    },
    {
      "cell_type": "code",
      "metadata": {
        "id": "0fM5h0Fv-awk"
      },
      "source": [
        "base_path = 'dataset'\n",
        "train_path = 'dataset/train'\n",
        "test_path = 'dataset/test'"
      ],
      "execution_count": 4,
      "outputs": []
    },
    {
      "cell_type": "code",
      "metadata": {
        "id": "axUAeWmj-gys"
      },
      "source": [
        "img_width,img_height=150,150\n",
        "batch_size=10"
      ],
      "execution_count": 5,
      "outputs": []
    },
    {
      "cell_type": "code",
      "metadata": {
        "id": "lmTY47s3-jW9"
      },
      "source": [
        " input_shape=(img_width,img_height,3)"
      ],
      "execution_count": 6,
      "outputs": []
    },
    {
      "cell_type": "code",
      "metadata": {
        "id": "NIG-GjiI-nsJ"
      },
      "source": [
        "train_datagen=ImageDataGenerator(rescale=1./255,shear_range=0.2,zoom_range=0.2,horizontal_flip=True,vertical_flip=True,rotation_range=30)"
      ],
      "execution_count": 7,
      "outputs": []
    },
    {
      "cell_type": "code",
      "metadata": {
        "colab": {
          "base_uri": "https://localhost:8080/"
        },
        "id": "0EXJ3nBW-p7n",
        "outputId": "771b6342-d8f5-48af-8fd3-f288f007bb43"
      },
      "source": [
        "test_datagen=ImageDataGenerator(rescale=1./255,horizontal_flip=True)\n",
        "image = test_datagen.flow_from_directory(test_path,target_size=(img_width,img_height),batch_size=batch_size,class_mode='binary')"
      ],
      "execution_count": 8,
      "outputs": [
        {
          "output_type": "stream",
          "text": [
            "Found 53 images belonging to 2 classes.\n"
          ],
          "name": "stdout"
        }
      ]
    },
    {
      "cell_type": "code",
      "metadata": {
        "colab": {
          "base_uri": "https://localhost:8080/"
        },
        "id": "jVpU3L32-wy0",
        "outputId": "62ad9053-95bc-47d3-837d-81768faae3a8"
      },
      "source": [
        "train_generator=train_datagen.flow_from_directory(train_path,target_size=(img_width,img_height),batch_size=batch_size,class_mode='binary')\n",
        "validation_generator=test_datagen.flow_from_directory(test_path,target_size=(img_width,img_height),batch_size=batch_size,class_mode='binary')"
      ],
      "execution_count": 9,
      "outputs": [
        {
          "output_type": "stream",
          "text": [
            "Found 438 images belonging to 2 classes.\n",
            "Found 53 images belonging to 2 classes.\n"
          ],
          "name": "stdout"
        }
      ]
    },
    {
      "cell_type": "code",
      "metadata": {
        "colab": {
          "base_uri": "https://localhost:8080/"
        },
        "id": "xi3sRtOv-0Oa",
        "outputId": "0d408909-b7b5-4a22-b779-ad0a7814bc26"
      },
      "source": [
        "model=Sequential()\n",
        "model.add(Conv2D(32,(3,3),input_shape=input_shape,activation='relu'))\n",
        "model.add(MaxPooling2D(pool_size = (2, 2)))\n",
        "# Adding a second convolutional layer\n",
        "model.add(Conv2D(64, (3, 3), activation = 'relu'))\n",
        "model.add(MaxPooling2D(pool_size = (2, 2)))\n",
        "model.add(Flatten())#2-d array to 1-d array\n",
        "model.add(Dense(128,activation='relu')) # 32*2*2\n",
        "model.add(Dense(1,activation='sigmoid')) # 32-nodes to 1 final node\n",
        " # relu-0 or 1,sigmoid- Probability\n",
        "model.summary()"
      ],
      "execution_count": 96,
      "outputs": [
        {
          "output_type": "stream",
          "text": [
            "Model: \"sequential_5\"\n",
            "_________________________________________________________________\n",
            "Layer (type)                 Output Shape              Param #   \n",
            "=================================================================\n",
            "conv2d_10 (Conv2D)           (None, 148, 148, 32)      896       \n",
            "_________________________________________________________________\n",
            "max_pooling2d_10 (MaxPooling (None, 74, 74, 32)        0         \n",
            "_________________________________________________________________\n",
            "conv2d_11 (Conv2D)           (None, 72, 72, 64)        18496     \n",
            "_________________________________________________________________\n",
            "max_pooling2d_11 (MaxPooling (None, 36, 36, 64)        0         \n",
            "_________________________________________________________________\n",
            "flatten_5 (Flatten)          (None, 82944)             0         \n",
            "_________________________________________________________________\n",
            "dense_10 (Dense)             (None, 128)               10616960  \n",
            "_________________________________________________________________\n",
            "dense_11 (Dense)             (None, 1)                 129       \n",
            "=================================================================\n",
            "Total params: 10,636,481\n",
            "Trainable params: 10,636,481\n",
            "Non-trainable params: 0\n",
            "_________________________________________________________________\n"
          ],
          "name": "stdout"
        }
      ]
    },
    {
      "cell_type": "code",
      "metadata": {
        "id": "onuOGSesHu3B"
      },
      "source": [
        "model.compile(loss='binary_crossentropy',metrics=['accuracy'])"
      ],
      "execution_count": 97,
      "outputs": []
    },
    {
      "cell_type": "code",
      "metadata": {
        "id": "UJa-R-5TJFCq"
      },
      "source": [
        "from matplotlib import pyplot"
      ],
      "execution_count": 98,
      "outputs": []
    },
    {
      "cell_type": "code",
      "metadata": {
        "colab": {
          "base_uri": "https://localhost:8080/"
        },
        "id": "i9DvBBTxJHFE",
        "outputId": "74600c12-d8e5-4bfd-f086-bf51d1255d33"
      },
      "source": [
        "from keras import callbacks\n",
        "earlystopping = callbacks.EarlyStopping(monitor =\"val_loss\", \n",
        "                                        mode =\"min\", patience = 5, \n",
        "                                        restore_best_weights = True)\n",
        "history=model.fit_generator(train_generator,epochs=50,validation_data=validation_generator,callbacks=[earlystopping])"
      ],
      "execution_count": 211,
      "outputs": [
        {
          "output_type": "stream",
          "text": [
            "/usr/local/lib/python3.7/dist-packages/tensorflow/python/keras/engine/training.py:1844: UserWarning: `Model.fit_generator` is deprecated and will be removed in a future version. Please use `Model.fit`, which supports generators.\n",
            "  warnings.warn('`Model.fit_generator` is deprecated and '\n"
          ],
          "name": "stderr"
        },
        {
          "output_type": "stream",
          "text": [
            "Epoch 1/50\n",
            " 6/44 [===>..........................] - ETA: 18s - loss: 0.3384 - accuracy: 0.9000"
          ],
          "name": "stdout"
        },
        {
          "output_type": "stream",
          "text": [
            "/usr/local/lib/python3.7/dist-packages/PIL/TiffImagePlugin.py:788: UserWarning: Corrupt EXIF data.  Expecting to read 4 bytes but only got 0. \n",
            "  warnings.warn(str(msg))\n"
          ],
          "name": "stderr"
        },
        {
          "output_type": "stream",
          "text": [
            "44/44 [==============================] - 24s 537ms/step - loss: 0.3356 - accuracy: 0.8790 - val_loss: 0.1423 - val_accuracy: 0.9245\n",
            "Epoch 2/50\n",
            "44/44 [==============================] - 24s 535ms/step - loss: 0.2671 - accuracy: 0.8813 - val_loss: 0.1794 - val_accuracy: 0.9245\n",
            "Epoch 3/50\n",
            "44/44 [==============================] - 24s 536ms/step - loss: 0.2904 - accuracy: 0.8973 - val_loss: 0.1366 - val_accuracy: 0.9434\n",
            "Epoch 4/50\n",
            "44/44 [==============================] - 24s 539ms/step - loss: 0.2938 - accuracy: 0.8721 - val_loss: 0.1424 - val_accuracy: 0.9623\n",
            "Epoch 5/50\n",
            "44/44 [==============================] - 24s 534ms/step - loss: 0.3115 - accuracy: 0.8699 - val_loss: 0.1929 - val_accuracy: 0.9245\n",
            "Epoch 6/50\n",
            "44/44 [==============================] - 24s 537ms/step - loss: 0.3192 - accuracy: 0.8630 - val_loss: 0.4192 - val_accuracy: 0.7736\n",
            "Epoch 7/50\n",
            "44/44 [==============================] - 24s 536ms/step - loss: 0.3329 - accuracy: 0.8630 - val_loss: 0.1599 - val_accuracy: 0.9623\n",
            "Epoch 8/50\n",
            "44/44 [==============================] - 24s 536ms/step - loss: 0.2669 - accuracy: 0.8973 - val_loss: 0.1048 - val_accuracy: 0.9811\n",
            "Epoch 9/50\n",
            "44/44 [==============================] - 24s 535ms/step - loss: 0.2603 - accuracy: 0.8950 - val_loss: 0.1053 - val_accuracy: 0.9434\n",
            "Epoch 10/50\n",
            "44/44 [==============================] - 24s 537ms/step - loss: 0.2771 - accuracy: 0.8858 - val_loss: 0.1273 - val_accuracy: 0.9434\n",
            "Epoch 11/50\n",
            "44/44 [==============================] - 24s 538ms/step - loss: 0.2859 - accuracy: 0.8790 - val_loss: 0.0872 - val_accuracy: 0.9623\n",
            "Epoch 12/50\n",
            "44/44 [==============================] - 24s 535ms/step - loss: 0.2304 - accuracy: 0.9110 - val_loss: 0.3684 - val_accuracy: 0.7925\n",
            "Epoch 13/50\n",
            "44/44 [==============================] - 24s 531ms/step - loss: 0.2781 - accuracy: 0.8927 - val_loss: 0.1388 - val_accuracy: 0.9434\n",
            "Epoch 14/50\n",
            "44/44 [==============================] - 24s 535ms/step - loss: 0.2507 - accuracy: 0.8836 - val_loss: 0.0584 - val_accuracy: 0.9811\n",
            "Epoch 15/50\n",
            "44/44 [==============================] - 24s 536ms/step - loss: 0.3250 - accuracy: 0.8790 - val_loss: 0.0905 - val_accuracy: 0.9245\n",
            "Epoch 16/50\n",
            "44/44 [==============================] - 24s 533ms/step - loss: 0.2587 - accuracy: 0.8995 - val_loss: 0.2236 - val_accuracy: 0.8868\n",
            "Epoch 17/50\n",
            "44/44 [==============================] - 24s 539ms/step - loss: 0.2227 - accuracy: 0.8995 - val_loss: 0.1719 - val_accuracy: 0.9245\n",
            "Epoch 18/50\n",
            "44/44 [==============================] - 24s 532ms/step - loss: 0.2579 - accuracy: 0.8813 - val_loss: 0.0728 - val_accuracy: 0.9811\n",
            "Epoch 19/50\n",
            "44/44 [==============================] - 24s 534ms/step - loss: 0.3385 - accuracy: 0.8516 - val_loss: 0.1017 - val_accuracy: 0.9811\n"
          ],
          "name": "stdout"
        }
      ]
    },
    {
      "cell_type": "code",
      "metadata": {
        "colab": {
          "base_uri": "https://localhost:8080/"
        },
        "id": "VF1GnQHfJOA0",
        "outputId": "d9f8c5b3-e2fb-43c9-bac8-20e2a6e2f5e2"
      },
      "source": [
        "cd /content/drive/My Drive/dnn"
      ],
      "execution_count": 212,
      "outputs": [
        {
          "output_type": "stream",
          "text": [
            "/content/drive/My Drive/dnn\n"
          ],
          "name": "stdout"
        }
      ]
    },
    {
      "cell_type": "code",
      "metadata": {
        "id": "TDV_sMONMC1I"
      },
      "source": [
        "model.save('2.h5')"
      ],
      "execution_count": 213,
      "outputs": []
    },
    {
      "cell_type": "code",
      "metadata": {
        "colab": {
          "base_uri": "https://localhost:8080/"
        },
        "id": "JcrCpgxKMH06",
        "outputId": "3ad75204-a4d2-4284-a4a5-c04f9937c9dc"
      },
      "source": [
        "cd /content/drive/My Drive/dnn"
      ],
      "execution_count": 152,
      "outputs": [
        {
          "output_type": "stream",
          "text": [
            "/content/drive/My Drive/dnn\n"
          ],
          "name": "stdout"
        }
      ]
    },
    {
      "cell_type": "code",
      "metadata": {
        "id": "EgOmfZk0MPwf"
      },
      "source": [
        "def pred_clean(pred):\n",
        "  if pred > 0.6:\n",
        "    return 1\n",
        "  else:\n",
        "    return 0\n",
        "\n",
        "def pred_class(pred):\n",
        "  res = pred_clean(pred)\n",
        "  labels = ['Bullying','Non-Bullying']\n",
        "  return labels[res]"
      ],
      "execution_count": 216,
      "outputs": []
    },
    {
      "cell_type": "code",
      "metadata": {
        "colab": {
          "base_uri": "https://localhost:8080/"
        },
        "id": "UUSrVDwdMhHx",
        "outputId": "44cf64f0-da65-4206-a1d8-e6fb3fc7d35a"
      },
      "source": [
        "cd /content/drive/My Drive/dnn/dataset/train/NoBulling"
      ],
      "execution_count": 217,
      "outputs": [
        {
          "output_type": "stream",
          "text": [
            "/content/drive/My Drive/dnn/dataset/train/NoBulling\n"
          ],
          "name": "stdout"
        }
      ]
    },
    {
      "cell_type": "code",
      "metadata": {
        "colab": {
          "base_uri": "https://localhost:8080/",
          "height": 269
        },
        "id": "eJQo7UAVMjA1",
        "outputId": "43a22b0a-fea6-4c24-dd8a-d622dafb4f6c"
      },
      "source": [
        "img_file = '/content/drive/My Drive/dnn/dataset/train/NoBulling/0_Affectionate-grandmother-and-granddaughter-hugging-on-the-beach.jpg'\n",
        "image = load_img(img_file,target_size=(150,150))\n",
        "plt.imshow(image)\n",
        "image = img_to_array(image)\n",
        "image = np.expand_dims(image,axis=0)\n",
        "image = image / 255"
      ],
      "execution_count": 218,
      "outputs": [
        {
          "output_type": "display_data",
          "data": {
            "image/png": "[encoded data removed]",
            "text/plain": [
              "<Figure size 432x288 with 1 Axes>"
            ]
          },
          "metadata": {
            "tags": [],
            "needs_background": "light"
          }
        }
      ]
    },
    {
      "cell_type": "code",
      "metadata": {
        "colab": {
          "base_uri": "https://localhost:8080/"
        },
        "id": "uI-ZwV4hMmR9",
        "outputId": "aac4036f-4bd1-4efb-901c-ddd941ca0d2a"
      },
      "source": [
        "res = model.predict(image)\n",
        "print(res[0])"
      ],
      "execution_count": 219,
      "outputs": [
        {
          "output_type": "stream",
          "text": [
            "[0.98045135]\n"
          ],
          "name": "stdout"
        }
      ]
    },
    {
      "cell_type": "code",
      "metadata": {
        "colab": {
          "base_uri": "https://localhost:8080/",
          "height": 35
        },
        "id": "XI9o6k78Mo1v",
        "outputId": "455c9684-d27c-4a70-c776-d5047b761a88"
      },
      "source": [
        "pred = pred_class(res)\n",
        "pred"
      ],
      "execution_count": 220,
      "outputs": [
        {
          "output_type": "execute_result",
          "data": {
            "application/vnd.google.colaboratory.intrinsic+json": {
              "type": "string"
            },
            "text/plain": [
              "'Non-Bullying'"
            ]
          },
          "metadata": {
            "tags": []
          },
          "execution_count": 220
        }
      ]
    },
    {
      "cell_type": "code",
      "metadata": {
        "colab": {
          "base_uri": "https://localhost:8080/",
          "height": 269
        },
        "id": "LRIxV05ZMs5K",
        "outputId": "b84958bd-b493-44b0-ffe6-2ed11665f2ed"
      },
      "source": [
        "from tensorflow.keras.preprocessing.image import ImageDataGenerator, img_to_array , load_img\n",
        "img_file = '/content/drive/My Drive/dnn/dataset/train/Bulling/10 (1).jfif'\n",
        "image = load_img(img_file,target_size=(150,150))\n",
        "plt.imshow(image)\n",
        "image = img_to_array(image)\n",
        "image = np.expand_dims(image,axis=0)\n",
        "image = image / 255"
      ],
      "execution_count": 221,
      "outputs": [
        {
          "output_type": "display_data",
          "data": {
            "image/png": "[encoded data removed]",
            "text/plain": [
              "<Figure size 432x288 with 1 Axes>"
            ]
          },
          "metadata": {
            "tags": [],
            "needs_background": "light"
          }
        }
      ]
    },
    {
      "cell_type": "code",
      "metadata": {
        "colab": {
          "base_uri": "https://localhost:8080/"
        },
        "id": "xKPL-YpoMwi9",
        "outputId": "0ca7506f-5143-4fc1-9ba5-1cf4945193c8"
      },
      "source": [
        "res = model.predict(image)\n",
        "print(res[0])"
      ],
      "execution_count": 222,
      "outputs": [
        {
          "output_type": "stream",
          "text": [
            "[5.2571902e-09]\n"
          ],
          "name": "stdout"
        }
      ]
    },
    {
      "cell_type": "code",
      "metadata": {
        "colab": {
          "base_uri": "https://localhost:8080/",
          "height": 35
        },
        "id": "WVJ3z8gDMz9q",
        "outputId": "e3863609-75f7-4ecd-d521-ac7de88e71b8"
      },
      "source": [
        "pred = pred_class(res)\n",
        "pred"
      ],
      "execution_count": 223,
      "outputs": [
        {
          "output_type": "execute_result",
          "data": {
            "application/vnd.google.colaboratory.intrinsic+json": {
              "type": "string"
            },
            "text/plain": [
              "'Bullying'"
            ]
          },
          "metadata": {
            "tags": []
          },
          "execution_count": 223
        }
      ]
    },
    {
      "cell_type": "code",
      "metadata": {
        "colab": {
          "base_uri": "https://localhost:8080/"
        },
        "id": "O7v1YzVeM2W8",
        "outputId": "fe7deda5-36dc-45e3-ffb6-fa9473b59230"
      },
      "source": [
        "cd /content/drive/My Drive/dnn/dataset/train/NoBulling"
      ],
      "execution_count": 238,
      "outputs": [
        {
          "output_type": "stream",
          "text": [
            "/content/drive/My Drive/dnn/dataset/train/NoBulling\n"
          ],
          "name": "stdout"
        }
      ]
    },
    {
      "cell_type": "code",
      "metadata": {
        "colab": {
          "base_uri": "https://localhost:8080/"
        },
        "id": "lvIIPHKYM5Rz",
        "outputId": "95605d85-8418-4262-c7ba-4003929715ec"
      },
      "source": [
        "import os\n",
        "folder_path='/content/drive/My Drive/dnn/dataset/train/NoBulling'\n",
        "images = []\n",
        "for i in os.listdir(folder_path):\n",
        "    i = load_img(i,target_size=(150,150))\n",
        "    i = img_to_array(i)\n",
        "    i = np.expand_dims(i, axis=0)\n",
        "    i=i/255\n",
        "    images.append(i)\n",
        "images = np.vstack(images)\n",
        "res = model.predict(images, batch_size=10)\n",
        "NonBullying_res=res\n",
        "print(res)"
      ],
      "execution_count": 239,
      "outputs": [
        {
          "output_type": "stream",
          "text": [
            "[[0.9386332 ]\n",
            " [0.81393313]\n",
            " [0.9804514 ]\n",
            " [0.8652618 ]\n",
            " [0.9999974 ]\n",
            " [0.6929323 ]\n",
            " [0.9360451 ]\n",
            " [0.99205947]\n",
            " [0.99938154]\n",
            " [0.9991473 ]\n",
            " [1.        ]\n",
            " [0.9996673 ]\n",
            " [0.9998367 ]\n",
            " [0.7897912 ]\n",
            " [0.9926011 ]\n",
            " [0.99920917]\n",
            " [0.9575883 ]\n",
            " [0.9995946 ]\n",
            " [0.9999998 ]\n",
            " [0.99936604]\n",
            " [0.9999878 ]\n",
            " [0.9999056 ]\n",
            " [0.99428225]\n",
            " [0.9883074 ]\n",
            " [0.9992262 ]\n",
            " [0.4732993 ]\n",
            " [0.94414616]\n",
            " [0.99723136]\n",
            " [1.        ]\n",
            " [0.9629692 ]\n",
            " [0.70761395]\n",
            " [0.99976575]\n",
            " [0.9999821 ]\n",
            " [0.9943589 ]\n",
            " [0.98974234]\n",
            " [0.98042333]\n",
            " [0.9813353 ]\n",
            " [0.99850464]\n",
            " [0.8621814 ]\n",
            " [0.999144  ]\n",
            " [0.9988506 ]\n",
            " [0.9294612 ]\n",
            " [0.9833499 ]\n",
            " [0.97486067]\n",
            " [0.9990274 ]\n",
            " [0.9617549 ]\n",
            " [0.6829542 ]\n",
            " [0.97815585]\n",
            " [0.99994373]\n",
            " [0.76170707]\n",
            " [0.9968909 ]\n",
            " [0.9999232 ]\n",
            " [0.98124367]\n",
            " [0.96747434]\n",
            " [0.9780879 ]\n",
            " [0.9603218 ]\n",
            " [0.9971122 ]\n",
            " [0.99995685]\n",
            " [0.63677156]\n",
            " [0.9998843 ]\n",
            " [0.98094434]\n",
            " [0.9848101 ]\n",
            " [0.9983024 ]\n",
            " [0.88363135]\n",
            " [0.96255064]\n",
            " [0.99410063]\n",
            " [0.99941635]\n",
            " [0.99353725]\n",
            " [0.9929123 ]\n",
            " [0.99938357]\n",
            " [0.9981444 ]\n",
            " [0.9757433 ]\n",
            " [0.7590577 ]\n",
            " [0.5461842 ]\n",
            " [0.9999959 ]\n",
            " [0.8607546 ]\n",
            " [0.9719629 ]\n",
            " [0.98577356]\n",
            " [0.9860374 ]\n",
            " [0.13701665]\n",
            " [0.98581296]\n",
            " [0.9999876 ]\n",
            " [0.98564214]\n",
            " [0.9999996 ]\n",
            " [0.99956274]\n",
            " [0.99185455]\n",
            " [0.99913985]\n",
            " [0.99762964]\n",
            " [0.9881934 ]\n",
            " [0.99330723]\n",
            " [0.9971804 ]\n",
            " [0.6781887 ]\n",
            " [0.989109  ]\n",
            " [0.9958918 ]\n",
            " [0.99491566]\n",
            " [0.9990063 ]\n",
            " [0.99942714]\n",
            " [0.9960724 ]\n",
            " [0.9998392 ]\n",
            " [0.96647   ]\n",
            " [0.96773386]\n",
            " [0.9999956 ]\n",
            " [0.98318994]\n",
            " [0.99999905]\n",
            " [0.9995177 ]\n",
            " [0.99729455]\n",
            " [0.93035907]\n",
            " [0.99863815]\n",
            " [0.9999924 ]\n",
            " [0.84472996]\n",
            " [0.74235225]\n",
            " [0.997851  ]\n",
            " [0.9979375 ]\n",
            " [0.9964514 ]\n",
            " [0.99999154]\n",
            " [0.9982603 ]\n",
            " [0.9466504 ]\n",
            " [0.9920604 ]\n",
            " [0.99677736]\n",
            " [0.96071774]\n",
            " [0.9999999 ]\n",
            " [0.99645275]\n",
            " [0.99894035]\n",
            " [1.        ]\n",
            " [0.48756966]\n",
            " [1.        ]\n",
            " [0.9810367 ]\n",
            " [0.9984493 ]\n",
            " [0.9925674 ]\n",
            " [0.9991799 ]\n",
            " [0.97687376]\n",
            " [0.999298  ]\n",
            " [0.99718356]\n",
            " [0.99684227]\n",
            " [0.92625844]\n",
            " [0.9965284 ]\n",
            " [0.9698018 ]\n",
            " [0.9830432 ]\n",
            " [0.99169815]\n",
            " [0.74549973]\n",
            " [0.9999995 ]\n",
            " [0.9871005 ]\n",
            " [0.9993344 ]\n",
            " [0.42508185]\n",
            " [0.92828953]\n",
            " [0.9976551 ]\n",
            " [0.99971056]\n",
            " [0.9974795 ]\n",
            " [0.98372144]\n",
            " [0.99837595]\n",
            " [0.9015087 ]\n",
            " [0.9968326 ]\n",
            " [0.97906995]\n",
            " [1.        ]\n",
            " [0.74648046]\n",
            " [0.990144  ]\n",
            " [1.        ]\n",
            " [0.96753573]\n",
            " [0.9692695 ]\n",
            " [0.95410895]\n",
            " [0.97478104]\n",
            " [0.41908717]\n",
            " [0.9995332 ]\n",
            " [0.9998932 ]\n",
            " [0.90648514]\n",
            " [0.990078  ]\n",
            " [0.9519483 ]\n",
            " [0.99987817]\n",
            " [0.9934232 ]\n",
            " [0.5275331 ]\n",
            " [0.99336153]\n",
            " [0.99998426]\n",
            " [0.89628714]\n",
            " [0.8091183 ]\n",
            " [0.9994894 ]\n",
            " [0.9999927 ]\n",
            " [0.9987407 ]\n",
            " [0.9602976 ]\n",
            " [0.96201   ]\n",
            " [0.9992881 ]\n",
            " [0.93922555]\n",
            " [0.9996488 ]\n",
            " [0.98960495]\n",
            " [0.83969355]\n",
            " [0.9999994 ]\n",
            " [0.99998593]\n",
            " [0.9996504 ]\n",
            " [0.9609448 ]\n",
            " [1.        ]\n",
            " [0.9999893 ]\n",
            " [0.8706207 ]\n",
            " [0.99941915]\n",
            " [0.9417721 ]\n",
            " [0.89909995]\n",
            " [0.9867332 ]\n",
            " [0.9999302 ]\n",
            " [0.1596404 ]\n",
            " [0.49885413]\n",
            " [0.9926648 ]\n",
            " [0.9996929 ]\n",
            " [0.9999725 ]\n",
            " [0.41278344]\n",
            " [0.99999774]\n",
            " [0.9989606 ]\n",
            " [0.9999994 ]\n",
            " [0.99818575]\n",
            " [0.6190447 ]\n",
            " [0.99999976]\n",
            " [0.5571476 ]\n",
            " [0.92156756]\n",
            " [0.97648895]\n",
            " [0.9989796 ]\n",
            " [0.98056793]\n",
            " [0.9996015 ]\n",
            " [0.998255  ]]\n"
          ],
          "name": "stdout"
        }
      ]
    },
    {
      "cell_type": "code",
      "metadata": {
        "colab": {
          "base_uri": "https://localhost:8080/"
        },
        "id": "dIxTekyeM8bO",
        "outputId": "ec630997-692e-4035-937c-7859bd26a66c"
      },
      "source": [
        "cd /content/drive/My Drive/dnn/dataset/train/Bulling"
      ],
      "execution_count": 240,
      "outputs": [
        {
          "output_type": "stream",
          "text": [
            "/content/drive/My Drive/dnn/dataset/train/Bulling\n"
          ],
          "name": "stdout"
        }
      ]
    },
    {
      "cell_type": "code",
      "metadata": {
        "colab": {
          "base_uri": "https://localhost:8080/"
        },
        "id": "sXOC1uylNNEu",
        "outputId": "06b74aa3-23e8-4119-e783-e37f5e4b8c8c"
      },
      "source": [
        "import os\n",
        "folder_path='/content/drive/My Drive/dnn/dataset/train/Bulling'\n",
        "images = []\n",
        "for i in os.listdir(folder_path):\n",
        "    i = load_img(i,target_size=(150,150))\n",
        "    i = img_to_array(i)\n",
        "    i = np.expand_dims(i, axis=0)\n",
        "    i=i/255\n",
        "    images.append(i)\n",
        "images = np.vstack(images)\n",
        "res = model.predict(images, batch_size=10)\n",
        "Bullying_res=res\n",
        "print(res)"
      ],
      "execution_count": 241,
      "outputs": [
        {
          "output_type": "stream",
          "text": [
            "/usr/local/lib/python3.7/dist-packages/PIL/TiffImagePlugin.py:788: UserWarning: Corrupt EXIF data.  Expecting to read 4 bytes but only got 0. \n",
            "  warnings.warn(str(msg))\n"
          ],
          "name": "stderr"
        },
        {
          "output_type": "stream",
          "text": [
            "[[2.37792730e-04]\n",
            " [1.31695867e-02]\n",
            " [2.51871347e-03]\n",
            " [1.16031494e-07]\n",
            " [2.23875046e-03]\n",
            " [3.65568697e-02]\n",
            " [2.27131204e-05]\n",
            " [3.96758318e-04]\n",
            " [3.51874948e-01]\n",
            " [3.77742754e-06]\n",
            " [4.24606323e-01]\n",
            " [1.22687221e-03]\n",
            " [6.91648126e-02]\n",
            " [3.84545056e-05]\n",
            " [1.79784596e-02]\n",
            " [5.29396534e-03]\n",
            " [4.29989768e-08]\n",
            " [2.28618085e-02]\n",
            " [2.29471326e-02]\n",
            " [1.26538953e-06]\n",
            " [4.45896029e-01]\n",
            " [2.09469690e-05]\n",
            " [2.44867802e-03]\n",
            " [1.75102778e-05]\n",
            " [5.34808636e-03]\n",
            " [8.83917689e-01]\n",
            " [2.79449814e-08]\n",
            " [3.54675025e-01]\n",
            " [8.07517767e-03]\n",
            " [6.05736732e-01]\n",
            " [1.48602552e-07]\n",
            " [1.30932987e-01]\n",
            " [5.93594074e-01]\n",
            " [3.75936031e-02]\n",
            " [9.29109156e-02]\n",
            " [6.86602652e-05]\n",
            " [1.27673149e-03]\n",
            " [5.17636538e-04]\n",
            " [4.56584245e-01]\n",
            " [1.04747727e-04]\n",
            " [3.06673944e-02]\n",
            " [5.41372716e-01]\n",
            " [1.88700557e-02]\n",
            " [2.36183405e-04]\n",
            " [1.27008796e-01]\n",
            " [3.12405825e-03]\n",
            " [2.76596278e-01]\n",
            " [9.86403227e-03]\n",
            " [9.49910554e-06]\n",
            " [1.86926723e-02]\n",
            " [4.18430567e-03]\n",
            " [2.83943117e-02]\n",
            " [2.70493329e-02]\n",
            " [5.36099970e-02]\n",
            " [4.49775980e-05]\n",
            " [6.60417390e-06]\n",
            " [5.02494515e-07]\n",
            " [2.97248363e-03]\n",
            " [8.38637352e-04]\n",
            " [3.98879170e-01]\n",
            " [6.58312440e-03]\n",
            " [1.69631451e-01]\n",
            " [1.98606758e-05]\n",
            " [1.11831963e-01]\n",
            " [1.65687293e-01]\n",
            " [1.27194911e-01]\n",
            " [1.30591065e-01]\n",
            " [3.40966463e-01]\n",
            " [8.53527784e-02]\n",
            " [7.98970461e-03]\n",
            " [1.07300550e-01]\n",
            " [1.46107723e-10]\n",
            " [8.28102231e-03]\n",
            " [6.76068962e-02]\n",
            " [1.12795800e-01]\n",
            " [1.44048035e-02]\n",
            " [2.57790089e-04]\n",
            " [5.83750010e-03]\n",
            " [5.28037548e-04]\n",
            " [4.15022075e-02]\n",
            " [4.47828174e-02]\n",
            " [2.46016277e-21]\n",
            " [1.67688032e-08]\n",
            " [3.81955773e-01]\n",
            " [2.57249057e-01]\n",
            " [4.17491794e-02]\n",
            " [3.28263879e-01]\n",
            " [2.90807486e-02]\n",
            " [1.63336694e-02]\n",
            " [3.74101996e-02]\n",
            " [1.48594481e-05]\n",
            " [3.87918949e-03]\n",
            " [5.94282150e-03]\n",
            " [3.18586826e-04]\n",
            " [3.68547976e-01]\n",
            " [7.94261098e-02]\n",
            " [5.06199896e-02]\n",
            " [2.17907131e-02]\n",
            " [2.44978366e-08]\n",
            " [1.11904621e-01]\n",
            " [9.34362411e-04]\n",
            " [5.68184257e-03]\n",
            " [2.12775171e-02]\n",
            " [4.61685687e-01]\n",
            " [3.11310202e-01]\n",
            " [7.46746361e-02]\n",
            " [2.37162620e-01]\n",
            " [2.06892103e-09]\n",
            " [8.44982266e-03]\n",
            " [5.29841781e-02]\n",
            " [3.30609083e-03]\n",
            " [3.27860057e-01]\n",
            " [6.83099031e-04]\n",
            " [2.39170790e-02]\n",
            " [2.92941928e-03]\n",
            " [2.50065887e-06]\n",
            " [2.32944757e-01]\n",
            " [1.32933147e-14]\n",
            " [4.05895710e-02]\n",
            " [4.32553887e-03]\n",
            " [2.26646662e-03]\n",
            " [1.27625465e-03]\n",
            " [3.51846218e-04]\n",
            " [6.68950051e-08]\n",
            " [5.25720001e-09]\n",
            " [1.74522400e-03]\n",
            " [6.96262717e-03]\n",
            " [1.32686108e-01]\n",
            " [1.17097765e-01]\n",
            " [1.16769671e-02]\n",
            " [6.09431863e-01]\n",
            " [3.13152671e-02]\n",
            " [4.13846970e-03]\n",
            " [4.10526991e-04]\n",
            " [2.42069066e-02]\n",
            " [1.89176390e-05]\n",
            " [3.01519036e-03]\n",
            " [9.39404368e-02]\n",
            " [2.01868415e-02]\n",
            " [1.78983808e-03]\n",
            " [1.06556326e-01]\n",
            " [7.21642375e-02]\n",
            " [4.16949689e-01]\n",
            " [3.77091169e-02]\n",
            " [3.06469202e-03]\n",
            " [3.17076743e-01]\n",
            " [4.80754077e-02]\n",
            " [5.93874156e-02]\n",
            " [2.62755156e-02]\n",
            " [1.23115152e-01]\n",
            " [2.35718489e-03]\n",
            " [3.76111269e-02]\n",
            " [3.82357836e-03]\n",
            " [2.62531294e-12]\n",
            " [7.99942017e-03]\n",
            " [1.69277191e-04]\n",
            " [2.65233219e-02]\n",
            " [4.46486956e-05]\n",
            " [6.01851940e-03]\n",
            " [1.11791790e-02]\n",
            " [7.59931345e-06]\n",
            " [3.27897072e-03]\n",
            " [1.30317658e-01]\n",
            " [1.79335144e-10]\n",
            " [1.08439624e-02]\n",
            " [7.39810765e-02]\n",
            " [2.70984471e-02]\n",
            " [1.77411437e-02]\n",
            " [2.88903713e-04]\n",
            " [3.15561891e-03]\n",
            " [6.16788864e-04]\n",
            " [2.17936281e-06]\n",
            " [2.40600079e-01]\n",
            " [6.52348995e-03]\n",
            " [6.50461661e-05]\n",
            " [3.98931861e-01]\n",
            " [5.93247056e-01]\n",
            " [1.28513554e-11]\n",
            " [8.25886130e-02]\n",
            " [7.38517927e-12]\n",
            " [2.25371420e-02]\n",
            " [4.52859998e-02]\n",
            " [2.43397121e-12]\n",
            " [7.41754770e-02]\n",
            " [2.81585753e-02]\n",
            " [1.88887119e-04]\n",
            " [3.34380161e-06]\n",
            " [5.42271137e-03]\n",
            " [5.55092096e-03]\n",
            " [2.56618077e-12]\n",
            " [2.38922142e-12]\n",
            " [5.83499670e-04]\n",
            " [7.38312304e-02]\n",
            " [3.46824884e-01]\n",
            " [3.90882812e-11]\n",
            " [2.74628103e-02]\n",
            " [6.98027015e-03]\n",
            " [2.09833779e-05]\n",
            " [2.84337997e-03]\n",
            " [1.38693452e-02]\n",
            " [1.95682049e-04]\n",
            " [7.77563453e-03]\n",
            " [1.50494963e-01]\n",
            " [3.48495990e-01]\n",
            " [1.00818515e-01]\n",
            " [8.08924437e-04]\n",
            " [1.62394881e-05]\n",
            " [7.92699456e-02]\n",
            " [2.78355583e-06]\n",
            " [4.99539435e-01]\n",
            " [4.20930982e-03]\n",
            " [2.20030546e-04]\n",
            " [5.83499670e-04]\n",
            " [3.74101996e-02]\n",
            " [4.52859998e-02]\n",
            " [3.12405825e-03]\n",
            " [1.07300550e-01]\n",
            " [4.99964444e-05]\n",
            " [2.51871347e-03]\n",
            " [2.44867802e-03]\n",
            " [5.83750010e-03]\n",
            " [5.25720001e-09]\n",
            " [1.26538953e-06]\n",
            " [7.38517927e-12]\n",
            " [1.11904621e-01]\n",
            " [1.88887119e-04]\n",
            " [1.32933147e-14]\n",
            " [2.43397121e-12]]\n"
          ],
          "name": "stdout"
        }
      ]
    },
    {
      "cell_type": "code",
      "metadata": {
        "colab": {
          "base_uri": "https://localhost:8080/"
        },
        "id": "13apGcw8NkKU",
        "outputId": "7bc2a0dc-cb87-4685-9270-c469ff6b5f53"
      },
      "source": [
        "cd /content/drive/My Drive/dnn/dataset/test/Bulling"
      ],
      "execution_count": 229,
      "outputs": [
        {
          "output_type": "stream",
          "text": [
            "/content/drive/My Drive/dnn/dataset/test/Bulling\n"
          ],
          "name": "stdout"
        }
      ]
    },
    {
      "cell_type": "code",
      "metadata": {
        "id": "K-HFBCX9Q6ui"
      },
      "source": [
        "import os\n",
        "folder_path='/content/drive/My Drive/dnn/dataset/test/Bulling'\n",
        "images = []\n",
        "for i in os.listdir(folder_path):\n",
        "    i = load_img(i,target_size=(150,150))\n",
        "    i = img_to_array(i)\n",
        "    i = np.expand_dims(i, axis=0)\n",
        "    i=i/255\n",
        "    images.append(i)\n",
        "images = np.vstack(images)\n",
        "res = model.predict(images, batch_size=10)\n",
        "Bullying_res=res\n",
        "#print(res)"
      ],
      "execution_count": 230,
      "outputs": []
    },
    {
      "cell_type": "code",
      "metadata": {
        "colab": {
          "base_uri": "https://localhost:8080/"
        },
        "id": "SxhPN1jdRA5L",
        "outputId": "9697cf9e-047d-4f26-9c47-470c3d3ca0f1"
      },
      "source": [
        "cd /content/drive/My Drive/dnn/dataset/test/NoBulling"
      ],
      "execution_count": 231,
      "outputs": [
        {
          "output_type": "stream",
          "text": [
            "/content/drive/My Drive/dnn/dataset/test/NoBulling\n"
          ],
          "name": "stdout"
        }
      ]
    },
    {
      "cell_type": "code",
      "metadata": {
        "id": "d23CmPKBRD_b"
      },
      "source": [
        "import os\n",
        "folder_path='/content/drive/My Drive/dnn/dataset/test/NoBulling'\n",
        "images = []\n",
        "for i in os.listdir(folder_path):\n",
        "    i = load_img(i,target_size=(150,150))\n",
        "    i = img_to_array(i)\n",
        "    i = np.expand_dims(i, axis=0)\n",
        "    i=i/255\n",
        "    images.append(i)\n",
        "images = np.vstack(images)\n",
        "res = model.predict(images, batch_size=10)\n",
        "NonBullying_res=res\n",
        "#print(res)"
      ],
      "execution_count": 232,
      "outputs": []
    },
    {
      "cell_type": "code",
      "metadata": {
        "colab": {
          "base_uri": "https://localhost:8080/"
        },
        "id": "1fgsgaWERIns",
        "outputId": "1e186a22-54d5-4af5-a3f1-142be9e3d16f"
      },
      "source": [
        "#test-accuracy\n",
        "#class-wise accuracy based on the threshold - Bullying\n",
        "i=0\n",
        "B_count=0\n",
        "for i in range(len(Bullying_res)):\n",
        "    if(Bullying_res[i]<=0.5):\n",
        "      B_count+=1\n",
        "print((B_count/len(Bullying_res))*100)"
      ],
      "execution_count": 252,
      "outputs": [
        {
          "output_type": "stream",
          "text": [
            "97.36842105263158\n"
          ],
          "name": "stdout"
        }
      ]
    },
    {
      "cell_type": "code",
      "metadata": {
        "colab": {
          "base_uri": "https://localhost:8080/"
        },
        "id": "lOeo9nteRPJo",
        "outputId": "63b099d7-7d13-4bb9-dbf7-b73a7cff285c"
      },
      "source": [
        "i=0\n",
        "NB_count=0\n",
        "for i in range(len(NonBullying_res)):\n",
        "    if(NonBullying_res[i]>0.5):\n",
        "      NB_count+=1\n",
        "print((NB_count/len(NonBullying_res))*100)"
      ],
      "execution_count": 253,
      "outputs": [
        {
          "output_type": "stream",
          "text": [
            "96.27906976744185\n"
          ],
          "name": "stdout"
        }
      ]
    },
    {
      "cell_type": "code",
      "metadata": {
        "colab": {
          "base_uri": "https://localhost:8080/"
        },
        "id": "DOC-iQcuRSM9",
        "outputId": "cbdffd9e-48bc-4c6c-bba2-ef0392555fea"
      },
      "source": [
        "total_accuracy=(B_count+NB_count)/(len(Bullying_res)+len(NonBullying_res))*100\n",
        "print(total_accuracy)"
      ],
      "execution_count": 254,
      "outputs": [
        {
          "output_type": "stream",
          "text": [
            "96.83972911963883\n"
          ],
          "name": "stdout"
        }
      ]
    },
    {
      "cell_type": "code",
      "metadata": {
        "id": "vkTrvIImSW4l"
      },
      "source": [
        ""
      ],
      "execution_count": null,
      "outputs": []
    }
  ]
}